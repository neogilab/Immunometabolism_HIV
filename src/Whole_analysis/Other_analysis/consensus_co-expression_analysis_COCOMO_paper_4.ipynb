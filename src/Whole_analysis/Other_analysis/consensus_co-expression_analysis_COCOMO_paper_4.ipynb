{
 "cells": [
  {
   "cell_type": "code",
   "execution_count": 1,
   "metadata": {},
   "outputs": [],
   "source": [
    "path = '/home/flomik/Desktop/Code-PHD/COCOMO_txn/results/networks/'\n",
    "name = 'Co_expression_3_layers'"
   ]
  },
  {
   "cell_type": "code",
   "execution_count": 2,
   "metadata": {},
   "outputs": [],
   "source": [
    "import sklearn, leidenalg, itertools, random\n",
    "import pandas as pd\n",
    "import numpy as np\n",
    "import igraph as ig\n",
    "import sklearn.neighbors\n",
    "import scipy as sp\n",
    "from statsmodels.stats.multitest import multipletests\n",
    "import gseapy as gp\n",
    "\n",
    "# Plotting\n",
    "import matplotlib.pyplot as plt\n",
    "import seaborn as sns\n",
    "%matplotlib inline"
   ]
  },
  {
   "cell_type": "code",
   "execution_count": 3,
   "metadata": {},
   "outputs": [],
   "source": [
    "def my_correlation(file):\n",
    "    \"\"\"\n",
    "        perform spearman correlation from file of values\n",
    "        Args:\n",
    "            file (str): pandas.core.frame.DataFrame with samples as column and features as rows\n",
    "        Returns:\n",
    "            PRmatrix(str): Correlation table\n",
    "    \"\"\"\n",
    "    Rmatrix, Pmatrix= sp.stats.spearmanr(file.T)\n",
    "    Rmatrix=pd.DataFrame(Rmatrix, index=data.index.copy(), columns=data.index.copy())\n",
    "    Pmatrix=pd.DataFrame(Pmatrix, index=data.index.copy(), columns=data.index.copy())\n",
    "\n",
    "    ###Prepares R and P matrices\n",
    "    Psquared=Pmatrix.where(np.triu(np.ones(Pmatrix.shape),1).astype(np.bool))\n",
    "    Psquared.columns.name='Feat2'\n",
    "    Pmatrix=Pmatrix.stack()\n",
    "    Pmatrix.index.names=['v1','v2']\n",
    "    Pmatrix=Pmatrix.reset_index()\n",
    "    Pmatrix.columns=['feat1','feat2','P']\n",
    "\n",
    "    Rmatrix=Rmatrix.where(np.triu(np.ones(Rmatrix.shape),1).astype(np.bool))\n",
    "    Rmatrix.columns.name='Feat2'\n",
    "    Rmatrix=Rmatrix.stack()\n",
    "    Rmatrix.index.names=['v1','v2'] #Avoid stacked names colliding\n",
    "    Rmatrix=Rmatrix.reset_index()\n",
    "    Rmatrix.columns=['feat1','feat2','R']\n",
    "\n",
    "    PRmatrix=pd.merge(Rmatrix.copy(), Pmatrix.copy(), on=['feat1','feat2']) #Correlation matrix with both R and P\n",
    "    PRmatrix=PRmatrix.loc[PRmatrix.feat1!=PRmatrix.feat2].dropna()\n",
    "    \n",
    "    ### Calculate FDR \n",
    "    FDR=pd.DataFrame(multipletests(PRmatrix['P'], method='fdr_bh', alpha=0.01)[1], columns=['FDR'])\n",
    "    PRmatrix=pd.concat([ PRmatrix, FDR], axis=1)\n",
    "    \n",
    "    return(PRmatrix)"
   ]
  },
  {
   "cell_type": "code",
   "execution_count": 4,
   "metadata": {},
   "outputs": [],
   "source": [
    "## load data\n",
    "txn=pd.read_csv('/home/flomik/Desktop/Code-PHD/COCOMO_txn/processing/COCOMO_transcriptomics_vsd_data_deseq2_filt.csv', index_col=0)\n",
    "prot=pd.read_csv('/home/flomik/Desktop/Code-PHD/COCOMO_txn/processing/COCOMO_proteomics_olink_filt.csv', index_col=0)\n",
    "met=pd.read_csv('/home/flomik/Desktop/Code-PHD/COCOMO_txn/processing/COCOMO_metabolomics_metabolon_filt.csv', index_col=0)"
   ]
  },
  {
   "cell_type": "code",
   "execution_count": 5,
   "metadata": {},
   "outputs": [
    {
     "data": {
      "text/plain": [
       "7172"
      ]
     },
     "execution_count": 5,
     "metadata": {},
     "output_type": "execute_result"
    }
   ],
   "source": [
    "a = len(txn.columns)\n",
    "b = len(met.columns)\n",
    "c = len(prot.columns)\n",
    "a + b + c"
   ]
  },
  {
   "cell_type": "code",
   "execution_count": 6,
   "metadata": {},
   "outputs": [],
   "source": [
    "## make table conversion\n",
    "conv_1 = pd.DataFrame({'feat1':txn.columns,\n",
    "                   'type_1': [\"txn\"]*len(txn.columns),\n",
    "                  }, columns = ['feat1', 'type_1'])\n",
    "conv_2 = pd.DataFrame({'feat1':met.columns,\n",
    "                   'type_1': [\"met\"]*len(met.columns),\n",
    "                  }, columns = ['feat1', 'type_1'])\n",
    "conv_3 = pd.DataFrame({'feat1':prot.columns,\n",
    "                   'type_1': [\"prot\"]*len(prot.columns),\n",
    "                  }, columns = ['feat1', 'type_1'])\n",
    "conv = pd.concat([conv_1, conv_2, conv_3])"
   ]
  },
  {
   "cell_type": "code",
   "execution_count": 7,
   "metadata": {},
   "outputs": [
    {
     "name": "stderr",
     "output_type": "stream",
     "text": [
      "2022-11-30 14:29:26,511 User Defined gene sets is given: /home/flomik/Desktop/Code-PHD/3_layers_integration/processing/Metabolon_met.gmt\n",
      "2022-11-30 14:29:26,575 Connecting to Enrichr Server to get latest library names\n",
      "2022-11-30 14:29:26,577 No hits return, for gene set: Custom139987166205256\n"
     ]
    },
    {
     "name": "stdout",
     "output_type": "stream",
     "text": [
      "DataFrame is empty!\n"
     ]
    }
   ],
   "source": [
    "metabolites = ['caprate (10:0)', '1-linoleoyl-GPG (18:2)*', '1-oleoyl-GPG (18:1)*']\n",
    "\n",
    "conv_2\n",
    "\n",
    "len(conv_2[conv_2['feat1'].isin(metabolites)])\n",
    "\n",
    "enr = gp.enrichr(gene_list= metabolites,description= \"Lipids\" + str(a),\n",
    "                       gene_sets=\"/home/flomik/Desktop/Code-PHD/3_layers_integration/processing/Metabolon_met.gmt\",\n",
    "                       outdir='/home/flomik/Desktop/Code-PHD/3_layers_integration/results/MSEA_Metabolites',cutoff=0.5,verbose=True, background  = 1143)\n",
    "\n",
    "\n",
    "if enr.results.empty:\n",
    "    print('DataFrame is empty!')"
   ]
  },
  {
   "cell_type": "code",
   "execution_count": 8,
   "metadata": {},
   "outputs": [],
   "source": [
    "input = path + 'type_features' + name + '.csv'\n",
    "conv.to_csv(input, index=False)"
   ]
  },
  {
   "cell_type": "code",
   "execution_count": 9,
   "metadata": {},
   "outputs": [
    {
     "data": {
      "text/html": [
       "<div>\n",
       "<style scoped>\n",
       "    .dataframe tbody tr th:only-of-type {\n",
       "        vertical-align: middle;\n",
       "    }\n",
       "\n",
       "    .dataframe tbody tr th {\n",
       "        vertical-align: top;\n",
       "    }\n",
       "\n",
       "    .dataframe thead th {\n",
       "        text-align: right;\n",
       "    }\n",
       "</style>\n",
       "<table border=\"1\" class=\"dataframe\">\n",
       "  <thead>\n",
       "    <tr style=\"text-align: right;\">\n",
       "      <th></th>\n",
       "      <th>Comp</th>\n",
       "      <th>Comp_type</th>\n",
       "      <th>R</th>\n",
       "      <th>I</th>\n",
       "    </tr>\n",
       "  </thead>\n",
       "  <tbody>\n",
       "  </tbody>\n",
       "</table>\n",
       "</div>"
      ],
      "text/plain": [
       "Empty DataFrame\n",
       "Columns: [Comp, Comp_type, R, I]\n",
       "Index: []"
      ]
     },
     "execution_count": 9,
     "metadata": {},
     "output_type": "execute_result"
    }
   ],
   "source": [
    "## Set empty dataframe\n",
    "df= pd.DataFrame(columns = ['Comp', 'Comp_type', 'R', 'I'])\n",
    "df"
   ]
  },
  {
   "cell_type": "code",
   "execution_count": null,
   "metadata": {},
   "outputs": [],
   "source": []
  },
  {
   "cell_type": "code",
   "execution_count": 11,
   "metadata": {},
   "outputs": [],
   "source": [
    "data = pd.read_csv(\"/home/flomik/Desktop/Code-PHD/COCOMO_txn/processing/data_merged_co_expression_network_features_consensus.csv\", index_col=0)"
   ]
  },
  {
   "cell_type": "code",
   "execution_count": 12,
   "metadata": {},
   "outputs": [],
   "source": [
    "data = np.transpose(data)"
   ]
  },
  {
   "cell_type": "code",
   "execution_count": 13,
   "metadata": {},
   "outputs": [
    {
     "data": {
      "text/html": [
       "<div>\n",
       "<style scoped>\n",
       "    .dataframe tbody tr th:only-of-type {\n",
       "        vertical-align: middle;\n",
       "    }\n",
       "\n",
       "    .dataframe tbody tr th {\n",
       "        vertical-align: top;\n",
       "    }\n",
       "\n",
       "    .dataframe thead th {\n",
       "        text-align: right;\n",
       "    }\n",
       "</style>\n",
       "<table border=\"1\" class=\"dataframe\">\n",
       "  <thead>\n",
       "    <tr style=\"text-align: right;\">\n",
       "      <th></th>\n",
       "      <th>1903</th>\n",
       "      <th>1267</th>\n",
       "      <th>1756</th>\n",
       "      <th>1608</th>\n",
       "      <th>1368</th>\n",
       "      <th>1155</th>\n",
       "      <th>1114</th>\n",
       "      <th>1284</th>\n",
       "      <th>1370</th>\n",
       "      <th>1576</th>\n",
       "      <th>...</th>\n",
       "      <th>1888</th>\n",
       "      <th>1149</th>\n",
       "      <th>1914</th>\n",
       "      <th>1198</th>\n",
       "      <th>1475</th>\n",
       "      <th>1920</th>\n",
       "      <th>1996</th>\n",
       "      <th>1108</th>\n",
       "      <th>1271</th>\n",
       "      <th>1397</th>\n",
       "    </tr>\n",
       "  </thead>\n",
       "  <tbody>\n",
       "    <tr>\n",
       "      <th>(12 or 13)-methylmyristate (a15:0 or i15:0)</th>\n",
       "      <td>0.616169</td>\n",
       "      <td>1.058732</td>\n",
       "      <td>-0.662689</td>\n",
       "      <td>2.434401</td>\n",
       "      <td>-0.244856</td>\n",
       "      <td>-1.397448</td>\n",
       "      <td>-0.665889</td>\n",
       "      <td>-1.100360</td>\n",
       "      <td>-0.121235</td>\n",
       "      <td>-0.582728</td>\n",
       "      <td>...</td>\n",
       "      <td>-0.923031</td>\n",
       "      <td>-1.203901</td>\n",
       "      <td>0.835762</td>\n",
       "      <td>-0.674614</td>\n",
       "      <td>1.220701</td>\n",
       "      <td>-0.522012</td>\n",
       "      <td>0.023042</td>\n",
       "      <td>-0.852303</td>\n",
       "      <td>-1.091725</td>\n",
       "      <td>0.429643</td>\n",
       "    </tr>\n",
       "    <tr>\n",
       "      <th>(14 or 15)-methylpalmitate (a17:0 or i17:0)</th>\n",
       "      <td>0.314871</td>\n",
       "      <td>1.442970</td>\n",
       "      <td>-0.742507</td>\n",
       "      <td>1.970375</td>\n",
       "      <td>0.081203</td>\n",
       "      <td>-1.831358</td>\n",
       "      <td>0.420509</td>\n",
       "      <td>-0.934566</td>\n",
       "      <td>0.112633</td>\n",
       "      <td>-0.488836</td>\n",
       "      <td>...</td>\n",
       "      <td>-1.118727</td>\n",
       "      <td>-1.465938</td>\n",
       "      <td>0.323082</td>\n",
       "      <td>-0.594008</td>\n",
       "      <td>0.833335</td>\n",
       "      <td>-0.395549</td>\n",
       "      <td>-0.185901</td>\n",
       "      <td>-1.241612</td>\n",
       "      <td>-0.872499</td>\n",
       "      <td>-0.363085</td>\n",
       "    </tr>\n",
       "    <tr>\n",
       "      <th>(16 or 17)-methylstearate (a19:0 or i19:0)</th>\n",
       "      <td>0.266517</td>\n",
       "      <td>1.364068</td>\n",
       "      <td>-0.441634</td>\n",
       "      <td>1.384768</td>\n",
       "      <td>-0.273866</td>\n",
       "      <td>-1.341537</td>\n",
       "      <td>0.804054</td>\n",
       "      <td>-0.360860</td>\n",
       "      <td>-0.167312</td>\n",
       "      <td>-0.544982</td>\n",
       "      <td>...</td>\n",
       "      <td>-0.781405</td>\n",
       "      <td>-0.922210</td>\n",
       "      <td>0.159500</td>\n",
       "      <td>-0.339163</td>\n",
       "      <td>0.802483</td>\n",
       "      <td>-0.494922</td>\n",
       "      <td>0.425352</td>\n",
       "      <td>-0.762681</td>\n",
       "      <td>-0.794357</td>\n",
       "      <td>-0.767585</td>\n",
       "    </tr>\n",
       "    <tr>\n",
       "      <th>(2 or 3)-decenoate (10:1n7 or n8)</th>\n",
       "      <td>-0.096036</td>\n",
       "      <td>0.273098</td>\n",
       "      <td>0.113967</td>\n",
       "      <td>0.716245</td>\n",
       "      <td>1.180975</td>\n",
       "      <td>-2.716908</td>\n",
       "      <td>-2.716908</td>\n",
       "      <td>-1.373327</td>\n",
       "      <td>0.545870</td>\n",
       "      <td>-0.990223</td>\n",
       "      <td>...</td>\n",
       "      <td>-2.716908</td>\n",
       "      <td>-1.330973</td>\n",
       "      <td>0.780730</td>\n",
       "      <td>-2.716908</td>\n",
       "      <td>-0.180005</td>\n",
       "      <td>-0.367360</td>\n",
       "      <td>-0.517875</td>\n",
       "      <td>-0.449493</td>\n",
       "      <td>-2.716908</td>\n",
       "      <td>-2.716908</td>\n",
       "    </tr>\n",
       "    <tr>\n",
       "      <th>(2,4 or 2,5)-dimethylphenol sulfate</th>\n",
       "      <td>3.250583</td>\n",
       "      <td>-3.373327</td>\n",
       "      <td>-1.578629</td>\n",
       "      <td>1.295194</td>\n",
       "      <td>-1.014500</td>\n",
       "      <td>1.140190</td>\n",
       "      <td>-3.029146</td>\n",
       "      <td>0.836490</td>\n",
       "      <td>-1.667034</td>\n",
       "      <td>2.074026</td>\n",
       "      <td>...</td>\n",
       "      <td>1.650305</td>\n",
       "      <td>-3.373327</td>\n",
       "      <td>-0.658356</td>\n",
       "      <td>-1.746616</td>\n",
       "      <td>3.393059</td>\n",
       "      <td>1.485684</td>\n",
       "      <td>2.923796</td>\n",
       "      <td>4.237220</td>\n",
       "      <td>-3.373327</td>\n",
       "      <td>-1.423139</td>\n",
       "    </tr>\n",
       "  </tbody>\n",
       "</table>\n",
       "<p>5 rows × 158 columns</p>\n",
       "</div>"
      ],
      "text/plain": [
       "                                                 1903      1267      1756  \\\n",
       "(12 or 13)-methylmyristate (a15:0 or i15:0)  0.616169  1.058732 -0.662689   \n",
       "(14 or 15)-methylpalmitate (a17:0 or i17:0)  0.314871  1.442970 -0.742507   \n",
       "(16 or 17)-methylstearate (a19:0 or i19:0)   0.266517  1.364068 -0.441634   \n",
       "(2 or 3)-decenoate (10:1n7 or n8)           -0.096036  0.273098  0.113967   \n",
       "(2,4 or 2,5)-dimethylphenol sulfate          3.250583 -3.373327 -1.578629   \n",
       "\n",
       "                                                 1608      1368      1155  \\\n",
       "(12 or 13)-methylmyristate (a15:0 or i15:0)  2.434401 -0.244856 -1.397448   \n",
       "(14 or 15)-methylpalmitate (a17:0 or i17:0)  1.970375  0.081203 -1.831358   \n",
       "(16 or 17)-methylstearate (a19:0 or i19:0)   1.384768 -0.273866 -1.341537   \n",
       "(2 or 3)-decenoate (10:1n7 or n8)            0.716245  1.180975 -2.716908   \n",
       "(2,4 or 2,5)-dimethylphenol sulfate          1.295194 -1.014500  1.140190   \n",
       "\n",
       "                                                 1114      1284      1370  \\\n",
       "(12 or 13)-methylmyristate (a15:0 or i15:0) -0.665889 -1.100360 -0.121235   \n",
       "(14 or 15)-methylpalmitate (a17:0 or i17:0)  0.420509 -0.934566  0.112633   \n",
       "(16 or 17)-methylstearate (a19:0 or i19:0)   0.804054 -0.360860 -0.167312   \n",
       "(2 or 3)-decenoate (10:1n7 or n8)           -2.716908 -1.373327  0.545870   \n",
       "(2,4 or 2,5)-dimethylphenol sulfate         -3.029146  0.836490 -1.667034   \n",
       "\n",
       "                                                 1576  ...      1888  \\\n",
       "(12 or 13)-methylmyristate (a15:0 or i15:0) -0.582728  ... -0.923031   \n",
       "(14 or 15)-methylpalmitate (a17:0 or i17:0) -0.488836  ... -1.118727   \n",
       "(16 or 17)-methylstearate (a19:0 or i19:0)  -0.544982  ... -0.781405   \n",
       "(2 or 3)-decenoate (10:1n7 or n8)           -0.990223  ... -2.716908   \n",
       "(2,4 or 2,5)-dimethylphenol sulfate          2.074026  ...  1.650305   \n",
       "\n",
       "                                                 1149      1914      1198  \\\n",
       "(12 or 13)-methylmyristate (a15:0 or i15:0) -1.203901  0.835762 -0.674614   \n",
       "(14 or 15)-methylpalmitate (a17:0 or i17:0) -1.465938  0.323082 -0.594008   \n",
       "(16 or 17)-methylstearate (a19:0 or i19:0)  -0.922210  0.159500 -0.339163   \n",
       "(2 or 3)-decenoate (10:1n7 or n8)           -1.330973  0.780730 -2.716908   \n",
       "(2,4 or 2,5)-dimethylphenol sulfate         -3.373327 -0.658356 -1.746616   \n",
       "\n",
       "                                                 1475      1920      1996  \\\n",
       "(12 or 13)-methylmyristate (a15:0 or i15:0)  1.220701 -0.522012  0.023042   \n",
       "(14 or 15)-methylpalmitate (a17:0 or i17:0)  0.833335 -0.395549 -0.185901   \n",
       "(16 or 17)-methylstearate (a19:0 or i19:0)   0.802483 -0.494922  0.425352   \n",
       "(2 or 3)-decenoate (10:1n7 or n8)           -0.180005 -0.367360 -0.517875   \n",
       "(2,4 or 2,5)-dimethylphenol sulfate          3.393059  1.485684  2.923796   \n",
       "\n",
       "                                                 1108      1271      1397  \n",
       "(12 or 13)-methylmyristate (a15:0 or i15:0) -0.852303 -1.091725  0.429643  \n",
       "(14 or 15)-methylpalmitate (a17:0 or i17:0) -1.241612 -0.872499 -0.363085  \n",
       "(16 or 17)-methylstearate (a19:0 or i19:0)  -0.762681 -0.794357 -0.767585  \n",
       "(2 or 3)-decenoate (10:1n7 or n8)           -0.449493 -2.716908 -2.716908  \n",
       "(2,4 or 2,5)-dimethylphenol sulfate          4.237220 -3.373327 -1.423139  \n",
       "\n",
       "[5 rows x 158 columns]"
      ]
     },
     "execution_count": 13,
     "metadata": {},
     "output_type": "execute_result"
    }
   ],
   "source": [
    "data.head()"
   ]
  },
  {
   "cell_type": "code",
   "execution_count": 14,
   "metadata": {},
   "outputs": [],
   "source": [
    "PRmatrix= my_correlation(data)"
   ]
  },
  {
   "cell_type": "code",
   "execution_count": 15,
   "metadata": {},
   "outputs": [
    {
     "data": {
      "text/html": [
       "<div>\n",
       "<style scoped>\n",
       "    .dataframe tbody tr th:only-of-type {\n",
       "        vertical-align: middle;\n",
       "    }\n",
       "\n",
       "    .dataframe tbody tr th {\n",
       "        vertical-align: top;\n",
       "    }\n",
       "\n",
       "    .dataframe thead th {\n",
       "        text-align: right;\n",
       "    }\n",
       "</style>\n",
       "<table border=\"1\" class=\"dataframe\">\n",
       "  <thead>\n",
       "    <tr style=\"text-align: right;\">\n",
       "      <th></th>\n",
       "      <th>feat1</th>\n",
       "      <th>feat2</th>\n",
       "      <th>R</th>\n",
       "      <th>P</th>\n",
       "      <th>FDR</th>\n",
       "    </tr>\n",
       "  </thead>\n",
       "  <tbody>\n",
       "    <tr>\n",
       "      <th>0</th>\n",
       "      <td>(12 or 13)-methylmyristate (a15:0 or i15:0)</td>\n",
       "      <td>(14 or 15)-methylpalmitate (a17:0 or i17:0)</td>\n",
       "      <td>0.837174</td>\n",
       "      <td>9.972629e-43</td>\n",
       "      <td>1.182525e-39</td>\n",
       "    </tr>\n",
       "    <tr>\n",
       "      <th>1</th>\n",
       "      <td>(12 or 13)-methylmyristate (a15:0 or i15:0)</td>\n",
       "      <td>(16 or 17)-methylstearate (a19:0 or i19:0)</td>\n",
       "      <td>0.731516</td>\n",
       "      <td>9.794271e-28</td>\n",
       "      <td>2.917238e-25</td>\n",
       "    </tr>\n",
       "    <tr>\n",
       "      <th>2</th>\n",
       "      <td>(12 or 13)-methylmyristate (a15:0 or i15:0)</td>\n",
       "      <td>(2 or 3)-decenoate (10:1n7 or n8)</td>\n",
       "      <td>0.518795</td>\n",
       "      <td>2.892088e-12</td>\n",
       "      <td>1.706761e-10</td>\n",
       "    </tr>\n",
       "    <tr>\n",
       "      <th>3</th>\n",
       "      <td>(12 or 13)-methylmyristate (a15:0 or i15:0)</td>\n",
       "      <td>(2,4 or 2,5)-dimethylphenol sulfate</td>\n",
       "      <td>-0.038495</td>\n",
       "      <td>6.310815e-01</td>\n",
       "      <td>8.553275e-01</td>\n",
       "    </tr>\n",
       "    <tr>\n",
       "      <th>4</th>\n",
       "      <td>(12 or 13)-methylmyristate (a15:0 or i15:0)</td>\n",
       "      <td>(N(1) + N(8))-acetylspermidine</td>\n",
       "      <td>0.055474</td>\n",
       "      <td>4.887538e-01</td>\n",
       "      <td>7.738940e-01</td>\n",
       "    </tr>\n",
       "  </tbody>\n",
       "</table>\n",
       "</div>"
      ],
      "text/plain": [
       "                                         feat1  \\\n",
       "0  (12 or 13)-methylmyristate (a15:0 or i15:0)   \n",
       "1  (12 or 13)-methylmyristate (a15:0 or i15:0)   \n",
       "2  (12 or 13)-methylmyristate (a15:0 or i15:0)   \n",
       "3  (12 or 13)-methylmyristate (a15:0 or i15:0)   \n",
       "4  (12 or 13)-methylmyristate (a15:0 or i15:0)   \n",
       "\n",
       "                                         feat2         R             P  \\\n",
       "0  (14 or 15)-methylpalmitate (a17:0 or i17:0)  0.837174  9.972629e-43   \n",
       "1   (16 or 17)-methylstearate (a19:0 or i19:0)  0.731516  9.794271e-28   \n",
       "2            (2 or 3)-decenoate (10:1n7 or n8)  0.518795  2.892088e-12   \n",
       "3          (2,4 or 2,5)-dimethylphenol sulfate -0.038495  6.310815e-01   \n",
       "4               (N(1) + N(8))-acetylspermidine  0.055474  4.887538e-01   \n",
       "\n",
       "            FDR  \n",
       "0  1.182525e-39  \n",
       "1  2.917238e-25  \n",
       "2  1.706761e-10  \n",
       "3  8.553275e-01  \n",
       "4  7.738940e-01  "
      ]
     },
     "execution_count": 15,
     "metadata": {},
     "output_type": "execute_result"
    }
   ],
   "source": [
    "PRmatrix.head()"
   ]
  },
  {
   "cell_type": "code",
   "execution_count": 16,
   "metadata": {},
   "outputs": [
    {
     "data": {
      "text/plain": [
       "(463646,)"
      ]
     },
     "execution_count": 16,
     "metadata": {},
     "output_type": "execute_result"
    }
   ],
   "source": [
    "PRmatrix.loc[PRmatrix['FDR']<0.00005,'R'].shape"
   ]
  },
  {
   "cell_type": "code",
   "execution_count": 17,
   "metadata": {},
   "outputs": [],
   "source": [
    "PRmatrix = PRmatrix.loc[PRmatrix['FDR']<0.00005,]"
   ]
  },
  {
   "cell_type": "code",
   "execution_count": 18,
   "metadata": {},
   "outputs": [],
   "source": [
    "fdr_pos_mat=PRmatrix.loc[PRmatrix['R']>0]\n",
    "fdr_neg_mat=PRmatrix.loc[PRmatrix['R']<0]\n",
    "PRmatrix=PRmatrix.loc[PRmatrix.isin(pd.unique(fdr_pos_mat[['feat1','feat2']].values.flatten())).sum(1)==2,]"
   ]
  },
  {
   "cell_type": "code",
   "execution_count": 19,
   "metadata": {},
   "outputs": [
    {
     "data": {
      "text/plain": [
       "(381520, 5)"
      ]
     },
     "execution_count": 19,
     "metadata": {},
     "output_type": "execute_result"
    }
   ],
   "source": [
    "fdr_pos_mat.shape"
   ]
  },
  {
   "cell_type": "code",
   "execution_count": 20,
   "metadata": {},
   "outputs": [
    {
     "data": {
      "text/plain": [
       "(82126, 5)"
      ]
     },
     "execution_count": 20,
     "metadata": {},
     "output_type": "execute_result"
    }
   ],
   "source": [
    "fdr_neg_mat.shape"
   ]
  },
  {
   "cell_type": "code",
   "execution_count": 21,
   "metadata": {},
   "outputs": [],
   "source": [
    "input = path + 'network_correlation_positive_' + name +'.csv'\n",
    "fdr_pos_mat.to_csv(input, index=False)\n",
    "input = path + 'network_correlation_positive_' + name +'.txt'\n",
    "fdr_pos_mat.to_csv(input, sep='\\t', mode='a')\n",
    "input = path + 'network_correlation_positive_' + name +'.xlsx'\n",
    "fdr_pos_mat.to_excel(input, index = False)"
   ]
  },
  {
   "cell_type": "code",
   "execution_count": 22,
   "metadata": {
    "scrolled": true
   },
   "outputs": [
    {
     "data": {
      "image/png": "[encoded data removed]",
      "text/plain": [
       "<Figure size 576x288 with 1 Axes>"
      ]
     },
     "metadata": {
      "needs_background": "light"
     },
     "output_type": "display_data"
    }
   ],
   "source": [
    "shortPR=PRmatrix.copy().loc[:,['feat1','feat2','R']]\n",
    "shortPR=shortPR.loc[shortPR.feat1!=shortPR.feat2]\n",
    "\n",
    "fig=plt.figure(figsize=(8,4))\n",
    "g=sns.distplot(shortPR['R'][shortPR['R']!=0], color='r');\n",
    "g.set(ylabel='PDF (FDR)')\n",
    "\n",
    "fig.legend(labels=['fdr (<0.00005)']);\n",
    "plt.xlabel('R')\n",
    "plt.title('Distribution of correlation coefficients')\n",
    "input = path + 'distribution_corr_coeff_'+ name + 'svg'\n",
    "plt.savefig(input, format='svg', dpi=1200)\n",
    "\n",
    "plt.show()"
   ]
  },
  {
   "cell_type": "code",
   "execution_count": 23,
   "metadata": {},
   "outputs": [],
   "source": [
    "pos_w=ig.Graph.TupleList([tuple(x) for x in fdr_pos_mat.values], directed=False, edge_attrs=['w'])\n",
    "\n",
    "#negative association, weighted\n",
    "neg_w=ig.Graph.TupleList([tuple(x) for x in fdr_neg_mat.values], directed=False, edge_attrs=['w'])\n",
    "\n",
    "#random network, unweighted, node and edge number based on a network of the same size\n",
    "randomG=ig.Graph.Erdos_Renyi(\n",
    "    n=pos_w.vcount(), \n",
    "    m=pos_w.ecount(), directed=False, loops=False)\n",
    "\n",
    "randomG_2=ig.Graph.Erdos_Renyi(\n",
    "    n=neg_w.vcount(), \n",
    "    m=neg_w.ecount(), directed=False, loops=False)"
   ]
  },
  {
   "cell_type": "code",
   "execution_count": 24,
   "metadata": {},
   "outputs": [
    {
     "ename": "KeyboardInterrupt",
     "evalue": "",
     "output_type": "error",
     "traceback": [
      "\u001b[0;31m---------------------------------------------------------------------------\u001b[0m",
      "\u001b[0;31mKeyboardInterrupt\u001b[0m                         Traceback (most recent call last)",
      "\u001b[0;32m<ipython-input-24-3ca6237a1057>\u001b[0m in \u001b[0;36m<module>\u001b[0;34m\u001b[0m\n\u001b[1;32m     16\u001b[0m \u001b[0mnetwork_stats\u001b[0m\u001b[0;34m=\u001b[0m\u001b[0mpd\u001b[0m\u001b[0;34m.\u001b[0m\u001b[0mDataFrame\u001b[0m\u001b[0;34m(\u001b[0m\u001b[0;34m)\u001b[0m\u001b[0;34m\u001b[0m\u001b[0m\n\u001b[1;32m     17\u001b[0m \u001b[0;32mfor\u001b[0m \u001b[0mnn\u001b[0m \u001b[0;32min\u001b[0m \u001b[0;34m[\u001b[0m\u001b[0mpos_w\u001b[0m\u001b[0;34m,\u001b[0m \u001b[0mneg_w\u001b[0m\u001b[0;34m,\u001b[0m \u001b[0mrandomG\u001b[0m\u001b[0;34m,\u001b[0m \u001b[0mrandomG_2\u001b[0m\u001b[0;34m]\u001b[0m\u001b[0;34m:\u001b[0m\u001b[0;34m\u001b[0m\u001b[0m\n\u001b[0;32m---> 18\u001b[0;31m     \u001b[0mnetwork_stats\u001b[0m\u001b[0;34m=\u001b[0m\u001b[0mpd\u001b[0m\u001b[0;34m.\u001b[0m\u001b[0mconcat\u001b[0m\u001b[0;34m(\u001b[0m\u001b[0;34m[\u001b[0m\u001b[0mnetwork_stats\u001b[0m\u001b[0;34m,\u001b[0m\u001b[0mgraph_prop\u001b[0m\u001b[0;34m(\u001b[0m\u001b[0mnn\u001b[0m\u001b[0;34m)\u001b[0m\u001b[0;34m]\u001b[0m\u001b[0;34m)\u001b[0m\u001b[0;34m\u001b[0m\u001b[0m\n\u001b[0m\u001b[1;32m     19\u001b[0m \u001b[0;34m\u001b[0m\u001b[0m\n\u001b[1;32m     20\u001b[0m \u001b[0mnetwork_stats\u001b[0m\u001b[0;34m.\u001b[0m\u001b[0mindex\u001b[0m\u001b[0;34m=\u001b[0m\u001b[0;34m[\u001b[0m\u001b[0;34m'pos_w'\u001b[0m\u001b[0;34m,\u001b[0m\u001b[0;34m'neg_w'\u001b[0m\u001b[0;34m,\u001b[0m \u001b[0;34m'random'\u001b[0m\u001b[0;34m,\u001b[0m \u001b[0;34m'random_2'\u001b[0m\u001b[0;34m]\u001b[0m\u001b[0;34m\u001b[0m\u001b[0m\n",
      "\u001b[0;32m<ipython-input-24-3ca6237a1057>\u001b[0m in \u001b[0;36mgraph_prop\u001b[0;34m(input_graph)\u001b[0m\n\u001b[1;32m      3\u001b[0m     \u001b[0mncount\u001b[0m\u001b[0;34m=\u001b[0m\u001b[0mnn\u001b[0m\u001b[0;34m.\u001b[0m\u001b[0mvcount\u001b[0m\u001b[0;34m(\u001b[0m\u001b[0;34m)\u001b[0m\u001b[0;34m\u001b[0m\u001b[0m\n\u001b[1;32m      4\u001b[0m     \u001b[0mecount\u001b[0m\u001b[0;34m=\u001b[0m\u001b[0mnn\u001b[0m\u001b[0;34m.\u001b[0m\u001b[0mecount\u001b[0m\u001b[0;34m(\u001b[0m\u001b[0;34m)\u001b[0m\u001b[0;34m\u001b[0m\u001b[0m\n\u001b[0;32m----> 5\u001b[0;31m     \u001b[0mdiameter\u001b[0m\u001b[0;34m=\u001b[0m\u001b[0mnn\u001b[0m\u001b[0;34m.\u001b[0m\u001b[0mdiameter\u001b[0m\u001b[0;34m(\u001b[0m\u001b[0;34m)\u001b[0m\u001b[0;34m\u001b[0m\u001b[0m\n\u001b[0m\u001b[1;32m      6\u001b[0m     \u001b[0mav_path\u001b[0m\u001b[0;34m=\u001b[0m\u001b[0mnn\u001b[0m\u001b[0;34m.\u001b[0m\u001b[0maverage_path_length\u001b[0m\u001b[0;34m(\u001b[0m\u001b[0;34m)\u001b[0m\u001b[0;34m\u001b[0m\u001b[0m\n\u001b[1;32m      7\u001b[0m     \u001b[0mdens\u001b[0m\u001b[0;34m=\u001b[0m\u001b[0mnn\u001b[0m\u001b[0;34m.\u001b[0m\u001b[0mdensity\u001b[0m\u001b[0;34m(\u001b[0m\u001b[0;34m)\u001b[0m\u001b[0;34m\u001b[0m\u001b[0m\n",
      "\u001b[0;31mKeyboardInterrupt\u001b[0m: "
     ]
    }
   ],
   "source": [
    "#function to get graph properties, takes a few minutes to run\n",
    "def graph_prop(input_graph):\n",
    "    ncount=nn.vcount()\n",
    "    ecount=nn.ecount()\n",
    "    diameter=nn.diameter()\n",
    "    av_path=nn.average_path_length()\n",
    "    dens=nn.density()\n",
    "    clustering=nn.transitivity_undirected() #this is the global clustering coefficient\n",
    "    conn=nn.is_connected()\n",
    "    min_cut=nn.mincut_value()\n",
    "    out=pd.DataFrame([ncount, ecount, diameter, av_path, dens, clustering, conn, min_cut],\n",
    "                 index=['node_count','edge_count','diameter','av_path_length','density','clustering_coef','connected?','minimum_cut']).T\n",
    "    return(out)\n",
    "\n",
    "#summarizing graph properties\n",
    "network_stats=pd.DataFrame()\n",
    "for nn in [pos_w, neg_w, randomG, randomG_2]:\n",
    "    network_stats=pd.concat([network_stats,graph_prop(nn)])\n",
    "    \n",
    "network_stats.index=['pos_w','neg_w', 'random', 'random_2']\n",
    "network_stats"
   ]
  },
  {
   "cell_type": "code",
   "execution_count": null,
   "metadata": {
    "scrolled": true
   },
   "outputs": [],
   "source": [
    "fig, ax = plt.subplots(figsize=(7, 7))\n",
    "# ax.set(yscale='log', xscale='log')\n",
    "p=sp.stats.probplot(pos_w.degree(), plot=ax)\n",
    "k=sp.stats.probplot(neg_w.degree(), plot=ax)\n",
    "r=sp.stats.probplot(randomG.degree(), plot=ax)\n",
    "s=sp.stats.probplot(randomG_2.degree(), plot=ax)\n",
    "\n",
    "col=['blue','','lightsalmon','','green', '','red']\n",
    "for x in np.arange(0,7,2):\n",
    "    ax.get_lines()[x].set_markerfacecolor(col[x])\n",
    "    ax.get_lines()[x].set_markeredgewidth(0)\n",
    "    ax.get_lines()[x+1].set_color(col[x])\n",
    "\n",
    "\n",
    "fig.legend(labels=['pos_w','pos_w','neg_w','neg_w','random','random', 'random_2','random_2']);\n",
    "\n",
    "ax.set(xlabel='Data quantiles', ylabel='observed degree (k)')\n",
    "input = path + 'Networks_degree_' + name + '.svg'\n",
    "plt.savefig(input, format='svg', dpi=1200)\n",
    "plt.show()"
   ]
  },
  {
   "cell_type": "code",
   "execution_count": null,
   "metadata": {},
   "outputs": [],
   "source": [
    "pos_w_comm = leidenalg.find_partition(pos_w, leidenalg.ModularityVertexPartition, weights='w')"
   ]
  },
  {
   "cell_type": "code",
   "execution_count": null,
   "metadata": {},
   "outputs": [],
   "source": [
    "leidenalg.ModularityVertexPartition\n",
    "leidenalg.CPMVertexPartition"
   ]
  },
  {
   "cell_type": "code",
   "execution_count": null,
   "metadata": {},
   "outputs": [],
   "source": [
    "def Average(lst): \n",
    "    return sum(lst) / len(lst)"
   ]
  },
  {
   "cell_type": "code",
   "execution_count": null,
   "metadata": {
    "scrolled": false
   },
   "outputs": [],
   "source": [
    "metabolites = pd.Series(pos_w.vs['name'])\n",
    "len(metabolites)\n",
    "for i in range(19):\n",
    "    print(len(metabolites[pos_w_comm[i]]))"
   ]
  },
  {
   "cell_type": "code",
   "execution_count": null,
   "metadata": {},
   "outputs": [],
   "source": [
    "## MSEA + centrality\n",
    "cutoff = 0.1\n",
    "\n",
    "network =[]\n",
    "community = []\n",
    "connectivity = []\n",
    "communities_stats = []\n",
    "n_metabolites = []\n",
    "transitivity = []\n",
    "proportion_met = []\n",
    "proportion_lip = []\n",
    "proportion_mic = []\n",
    "tot_terms_met = []\n",
    "tot_terms_lip = []\n",
    "tot_terms_mic = []\n",
    "\n",
    "\n",
    "tot_nb =[]\n",
    "\n",
    "c = 0\n",
    "\n",
    "d = pd.DataFrame()\n",
    "\n",
    "net = [pos_w]\n",
    "com_net = [pos_w_comm]\n",
    "names = ['pos_w']\n",
    "\n",
    "for j in [0]:\n",
    "    average = []\n",
    "    a = 1\n",
    "    terms_enriched = []\n",
    "    for i in com_net[j]:\n",
    "        if(len(i)<31):\n",
    "            continue\n",
    "        c = i\n",
    "        degree = pd.Series(net[j].degree())\n",
    "        metabolites = pd.Series(net[j].vs['name'])\n",
    "        degree = degree[c]\n",
    "        metabolites = metabolites[c]\n",
    "        metabolites = metabolites.tolist()\n",
    "        \n",
    "        if (len(conv_2[conv_2['feat1'].isin(metabolites)]) > 10):\n",
    "            metabolites_2 = pd.Series(conv_2['feat1'][conv_2['feat1'].isin(metabolites)]).tolist()\n",
    "            prop = len(metabolites_2)\n",
    "            proportion_met.append(prop)\n",
    "            \n",
    "            enr = gp.enrichr(gene_list= metabolites, description= \"Metabolites\" + str(a),\n",
    "                       gene_sets=\"/home/flomik/Desktop/Code-PHD/COCOMO_txn/processing/Metabolon_met.gmt\",\n",
    "                       outdir='/home/flomik/Desktop/Code-PHD/COCOMO_txn/results/co_expression',cutoff=0.5,verbose=True, background  = 841)\n",
    "\n",
    "            if enr.results.empty:\n",
    "                print('DataFrame is empty!')\n",
    "                tot_terms_met.append('Not')\n",
    "            else :\n",
    "                results=enr.results.sort_values('Adjusted P-value', ascending=True)\n",
    "                print(results)\n",
    "                results=results.loc[results['Adjusted P-value']<cutoff,]\n",
    "                terms_enriched = results['Term'].tolist()\n",
    "                terms_enriched = terms_enriched\n",
    "                terms_enriched = ','.join(terms_enriched)\n",
    "                tot_terms_met.append(terms_enriched)\n",
    "        else :\n",
    "            tot_terms_met.append('Not')\n",
    "            proportion_met.append('Not')\n",
    "        \n",
    "        if (len(conv_1[conv_1['feat1'].isin(metabolites)]) > 10):\n",
    "            metabolites_2 = pd.Series(conv_1['feat1'][conv_1['feat1'].isin(metabolites)]).tolist()\n",
    "            prop = len(metabolites_2)\n",
    "            proportion_lip.append(prop)\n",
    "            \n",
    "            enr = gp.enrichr(gene_list= metabolites,description= \"Transcripts\" + str(a),\n",
    "                       gene_sets=\"/home/flomik/Desktop/Code-PHD/COCOMO_txn/data/MSEA/KEGG_1_3_5.gmt\",\n",
    "                       outdir='/home/flomik/Desktop/Code-PHD/COCOMO_txn/results/co_expression',cutoff=0.5,verbose=True, background  = 1143)\n",
    "            \n",
    "            \n",
    "            if enr.results.empty:\n",
    "                print('DataFrame is empty!')\n",
    "                tot_terms_lip.append('Not')\n",
    "                \n",
    "            else :\n",
    "                results=enr.results.sort_values('Adjusted P-value', ascending=True)\n",
    "                print(results)\n",
    "                results=results.loc[results['Adjusted P-value']<cutoff,]\n",
    "                terms_enriched = results['Term'].tolist()\n",
    "                terms_enriched = terms_enriched\n",
    "                terms_enriched = ','.join(terms_enriched)\n",
    "                tot_terms_lip.append(terms_enriched)\n",
    "            \n",
    "        else :\n",
    "            tot_terms_lip.append('Not')\n",
    "            proportion_lip.append('Not')\n",
    "        \n",
    "        if (len(conv_3[conv_3['feat1'].isin(metabolites)]) > 10):\n",
    "            \n",
    "            metabolites_2 = pd.Series(conv_3['feat1'][conv_3['feat1'].isin(metabolites)]).tolist()\n",
    "            prop = len(metabolites_2)\n",
    "            proportion_mic.append(prop)\n",
    "            \n",
    "            enr = gp.enrichr(gene_list= metabolites,description= \"Proteins\" + str(a),\n",
    "                       gene_sets=\"/home/flomik/Desktop/Code-PHD/COCOMO_txn/data/MSEA/KEGG_1_3_5.gmt\",\n",
    "                       outdir='/home/flomik/Desktop/Code-PHD/COCOMO_txn/results/co_expression',cutoff=0.5,verbose=True, background  = 241)\n",
    "            \n",
    "            if enr.results.empty:\n",
    "                print('DataFrame is empty!')\n",
    "                tot_terms_mic.append('Not')\n",
    "            else :\n",
    "                results=enr.results.sort_values('Adjusted P-value', ascending=True)\n",
    "                print(results)\n",
    "                results=results.loc[results['Adjusted P-value']<cutoff,]\n",
    "                terms_enriched = results['Term'].tolist()\n",
    "                terms_enriched = terms_enriched\n",
    "                terms_enriched = ','.join(terms_enriched)\n",
    "                tot_terms_mic.append(terms_enriched)\n",
    "                \n",
    "        else :\n",
    "            tot_terms_mic.append('Not')\n",
    "            proportion_mic.append('Not')\n",
    "        \n",
    "        print(\"average connectivity of the community number \", a, \"which contains\", len(c), \" metabolites is\", round(Average(degree), 2), \"for network\", names[j])\n",
    "        \n",
    "        average.append(Average(degree))\n",
    "        communities_stats.append((a,len(c),round(Average(degree), 2)))\n",
    "        network.append(names[j])\n",
    "        connectivity.append(round(Average(degree), 2))\n",
    "        community.append(a)\n",
    "        n_metabolites.append(len(c))\n",
    "        v = net[j].transitivity_local_undirected(vertices = metabolites)\n",
    "        transitivity.append(round(Average(v), 2))\n",
    "        a = a +1\n",
    "        \n",
    "        \n",
    "print(len(network))\n",
    "print(len(connectivity))\n",
    "print(len(n_metabolites))\n",
    "print(len(transitivity))\n",
    "print(len(tot_terms_met))\n",
    "print(len(tot_terms_lip))\n",
    "print(len(tot_terms_mic))\n",
    "print(len(proportion_met))\n",
    "print(len(proportion_lip))\n",
    "print(len(proportion_mic))\n",
    "\n",
    "df = pd.DataFrame({'Network_name':network,\n",
    "                   'Connectivity':connectivity,\n",
    "                   'Number_community':community,\n",
    "                   'N_metabolites':n_metabolites,\n",
    "                   'Clustering_coeff':transitivity,\n",
    "                   'Terms_Metabolites':tot_terms_met,\n",
    "                   'Terms_Lipids':tot_terms_lip,\n",
    "                   'Terms_Microbiome':tot_terms_mic,\n",
    "                   'Prop_met' : proportion_met,\n",
    "                   'Prop_lip' : proportion_lip,\n",
    "                   'Prop_mic' : proportion_mic,\n",
    "                  })\n",
    "\n",
    "\n",
    "\n",
    "input = path + 'Results_centrality_networks_CPM' + name + '.csv'\n",
    "df.to_csv(input, index=False)\n"
   ]
  },
  {
   "cell_type": "code",
   "execution_count": null,
   "metadata": {},
   "outputs": [],
   "source": []
  },
  {
   "cell_type": "code",
   "execution_count": null,
   "metadata": {},
   "outputs": [],
   "source": [
    "df_1 = pd.DataFrame({'feat1':['1'],\n",
    "                   'Degree': ['1'],\n",
    "                   'Network':['1'],\n",
    "                   'Community':['1']\n",
    "                  })\n",
    "\n",
    "df_1"
   ]
  },
  {
   "cell_type": "code",
   "execution_count": null,
   "metadata": {},
   "outputs": [],
   "source": [
    "net = [pos_w]\n",
    "com_net = [pos_w_comm]\n",
    "names = ['pos_w']\n",
    "\n",
    "for j in [0]:\n",
    "    average = []\n",
    "    a = 1\n",
    "    for i in com_net[j]:\n",
    "        tot_metabolites =[]\n",
    "        tot_degree = []\n",
    "        tot_network = []\n",
    "        community = []\n",
    "        if(len(i)<30):\n",
    "            continue\n",
    "        c = i\n",
    "        degree = pd.Series(net[j].degree())\n",
    "        metabolites = pd.Series(net[j].vs['name'])\n",
    "        degree = degree[c]\n",
    "        degree = degree.tolist()\n",
    "        metabolites = metabolites[c]\n",
    "        metabolites = metabolites.tolist()\n",
    "        tot_network = [names[j]]*len(c)\n",
    "        community = [a]*len(c)\n",
    "        tot_degree = degree\n",
    "        tot_metabolites = metabolites\n",
    "        df_2 = pd.DataFrame({'feat1':tot_metabolites,\n",
    "                   'Degree': tot_degree,\n",
    "                   'Network': tot_network,\n",
    "                   'Community':community,\n",
    "                  }, columns = ['feat1', 'Degree', 'Network', 'Community'])\n",
    "        df_1 = pd.concat([df_1, df_2], sort=False)\n",
    "        a = a +1\n",
    "\n",
    "#        "
   ]
  },
  {
   "cell_type": "code",
   "execution_count": null,
   "metadata": {},
   "outputs": [],
   "source": [
    "df_1 = df_1.merge(conv, on='feat1')\n",
    "input = path + 'Table_nodes_CPM'+ name + '.csv'\n",
    "df_1\n",
    "df_1.to_csv(input, index=False)"
   ]
  },
  {
   "cell_type": "code",
   "execution_count": null,
   "metadata": {},
   "outputs": [],
   "source": []
  }
 ],
 "metadata": {
  "kernelspec": {
   "display_name": "Python 3",
   "language": "python",
   "name": "python3"
  },
  "language_info": {
   "codemirror_mode": {
    "name": "ipython",
    "version": 3
   },
   "file_extension": ".py",
   "mimetype": "text/x-python",
   "name": "python",
   "nbconvert_exporter": "python",
   "pygments_lexer": "ipython3",
   "version": "3.5.2"
  }
 },
 "nbformat": 4,
 "nbformat_minor": 4
}
